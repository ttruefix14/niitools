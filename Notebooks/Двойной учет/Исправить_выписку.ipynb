{
 "cells": [
  {
   "cell_type": "code",
   "execution_count": 9,
   "metadata": {},
   "outputs": [],
   "source": [
    "import os\n",
    "import re\n",
    "import xml.etree.ElementTree as ET\n",
    "def xml_rename(xml, dirname):\n",
    "    with open(xml, 'rb') as xml_file:\n",
    "        tree = ET.parse(xml_file)\n",
    "        \n",
    "    types = {'extract_about_property_land': 1, \n",
    "             'extract_transfer_rights_property': 2, \n",
    "             'exract_notice_absence_request_info_12': 3,\n",
    "             'extract_base_params_land': 1}\n",
    "    # print(xml)\n",
    "    root = tree.getroot()\n",
    "    xml_type = types.get(root.tag, \"Неизвестен\")\n",
    "    # Для выписки\n",
    "    if xml_type == 1:\n",
    "        # Кад номер\n",
    "        cad_number = next(next(root.iter('land_record')).iter('cad_number')).text\n",
    "        cad_type = ''\n",
    "#         print(cad_number)\n",
    "\n",
    "    # Для выписки о переходе прав\n",
    "    elif xml_type == 2:\n",
    "        # Кад номер\n",
    "        cad_number = next(next(root.iter('land_record')).iter('cad_number')).text\n",
    "        cad_type = 'ип_'\n",
    "\n",
    "    # Для выписки без информации\n",
    "    elif xml_type == 3:\n",
    "        cad_number = re.search(r'\\d{2}:\\d{2}:\\d{7}:\\d+', next(root.iter('content_request')).text)[0]\n",
    "        cad_type = 'ип_нд_'\n",
    "#         print(cad_number)\n",
    "\n",
    "    else:\n",
    "        print(xml, 'Неизвестный тип выписки!')\n",
    "        return\n",
    "    new_filename = cad_type + cad_number.replace(':', '_') + '.xml'\n",
    "    new_path = os.path.join(dirname, new_filename)\n",
    "    try:\n",
    "        os.rename(xml, new_path)\n",
    "    except FileExistsError:\n",
    "        print('Уже есть:' + cad_number)   "
   ]
  },
  {
   "cell_type": "code",
   "execution_count": 10,
   "metadata": {},
   "outputs": [
    {
     "name": "stdout",
     "output_type": "stream",
     "text": [
      "Каталог: \\\\junkart\\FS\\1_ГРАД_ПРОЕКТЫ\\23_Краснодарский_край\\2_ГП\\Апшеронский_Апшеронское\\9_Двойной учет\\2_Выписки\\21.11.2023\\xml\n",
      "Уже есть:23:02:0000000:386\n",
      "Уже есть:23:02:1303000:124\n",
      "Уже есть:23:02:1303000:5\n",
      "Уже есть:23:02:0421001:63\n",
      "Уже есть:23:02:1304000:63\n",
      "Уже есть:23:02:1304001:268\n",
      "Уже есть:23:02:0000000:342\n",
      "Уже есть:23:02:0000000:353\n",
      "Уже есть:23:02:0418001:31\n",
      "Уже есть:23:02:1304001:263\n",
      "Уже есть:23:02:0418001:33\n",
      "Уже есть:23:02:0421001:297\n",
      "Уже есть:23:02:0421001:63\n",
      "\\\\junkart\\FS\\1_ГРАД_ПРОЕКТЫ\\23_Краснодарский_край\\2_ГП\\Апшеронский_Апшеронское\\9_Двойной учет\\2_Выписки\\21.11.2023\\xml\\report-3c9c9ba5-88c9-4c7e-9836-f65463e5edf5-OfSite-2023-11-15-402261-23-01[0].xml Неизвестный тип выписки!\n",
      "\\\\junkart\\FS\\1_ГРАД_ПРОЕКТЫ\\23_Краснодарский_край\\2_ГП\\Апшеронский_Апшеронское\\9_Двойной учет\\2_Выписки\\21.11.2023\\xml\\report-3c9c9ba5-88c9-4c7e-9836-f65463e5edf5-OfSite-2023-11-15-402261-23-01[0]_1.xml Неизвестный тип выписки!\n",
      "Уже есть:23:02:0308000:5\n",
      "Уже есть:23:02:0308000:177\n",
      "Уже есть:23:02:0421001:62\n",
      "Уже есть:23:02:0000000:515\n",
      "Уже есть:23:02:0000000:332\n",
      "Уже есть:23:02:0000000:1681\n",
      "Уже есть:23:02:0000000:9\n",
      "Уже есть:23:02:0000000:308\n",
      "Уже есть:23:02:0000000:25\n",
      "Уже есть:23:02:0000000:25\n",
      "Уже есть:23:02:0000000:25\n",
      "Уже есть:23:02:1303003:93\n",
      "Уже есть:23:02:0402014:456\n",
      "Уже есть:23:02:0419008:873\n",
      "Уже есть:23:02:0415006:21\n",
      "Уже есть:23:02:0000000:334\n",
      "Уже есть:23:02:1303000:17\n",
      "Уже есть:23:02:0000000:327\n",
      "\\\\junkart\\FS\\1_ГРАД_ПРОЕКТЫ\\23_Краснодарский_край\\2_ГП\\Апшеронский_Апшеронское\\9_Двойной учет\\2_Выписки\\21.11.2023\\xml\\report-d4b4b482-6a33-44ae-ac13-3bdfc68b8c30-OfSite-2023-11-14-464666-23-01[0].xml Неизвестный тип выписки!\n",
      "Уже есть:23:02:0000000:181\n",
      "Уже есть:23:02:1304001:266\n",
      "Уже есть:23:02:0000000:337\n",
      "Уже есть:23:02:0000000:387\n",
      "Уже есть:23:02:0421001:167\n"
     ]
    }
   ],
   "source": [
    "for dirpath, dirnames, filenames in os.walk(r\"\\\\junkart\\FS\\1_ГРАД_ПРОЕКТЫ\\23_Краснодарский_край\\2_ГП\\Апшеронский_Апшеронское\\9_Двойной учет\\2_Выписки\\21.11.2023\"):\n",
    "    # перебрать каталоги\n",
    "    for dirname in dirnames:\n",
    "        if 'xml' not in dirname:\n",
    "            continue\n",
    "        print(\"Каталог:\", os.path.join(dirpath, dirname))\n",
    "    # перебрать файлы\n",
    "        for filename in os.listdir(os.path.join(dirpath, dirname)):\n",
    "            if 'xml' in filename:\n",
    "                #print(\"Файл:\", os.path.join(dirpath, dirname, filename))\n",
    "                xml_rename(os.path.join(dirpath, dirname, filename), os.path.join(dirpath, dirname))\n"
   ]
  },
  {
   "cell_type": "code",
   "execution_count": null,
   "metadata": {},
   "outputs": [],
   "source": []
  }
 ],
 "metadata": {
  "kernelspec": {
   "display_name": "Python 3",
   "language": "python",
   "name": "python3"
  },
  "language_info": {
   "codemirror_mode": {
    "name": "ipython",
    "version": 3
   },
   "file_extension": ".py",
   "mimetype": "text/x-python",
   "name": "python",
   "nbconvert_exporter": "python",
   "pygments_lexer": "ipython3",
   "version": "3.11.4"
  }
 },
 "nbformat": 4,
 "nbformat_minor": 2
}
