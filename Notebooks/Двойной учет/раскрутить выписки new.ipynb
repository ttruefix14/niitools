{
 "cells": [
  {
   "cell_type": "code",
   "execution_count": 1,
   "metadata": {},
   "outputs": [],
   "source": [
    "import xml.etree.ElementTree as ET\n",
    "import pandas as pd\n",
    "import re\n",
    "import os\n",
    "from dateutil.parser import parse as dtparse"
   ]
  },
  {
   "cell_type": "code",
   "execution_count": 2,
   "metadata": {},
   "outputs": [],
   "source": [
    "def xml_parse(xml, dirname):\n",
    "    types = {'extract_about_property_land': 1, \n",
    "             'extract_transfer_rights_property': 2, \n",
    "             'exract_notice_absence_request_info_12': 3,\n",
    "             'extract_base_params_land': 1}\n",
    "    tree = ET.parse(xml)\n",
    "    root = tree.getroot()\n",
    "    xml_type = types[root.tag]\n",
    "    # Для выписки\n",
    "    if xml_type == 1:\n",
    "        # Кад номер\n",
    "        cad_number = next(next(root.iter('land_record')).iter('cad_number')).text\n",
    "#         print(cad_number)\n",
    "        # Предыдущие кад номера\n",
    "        try:\n",
    "            prevs = next(root.iter('ascendant_cad_numbers'))\n",
    "        except:\n",
    "            prevs = None\n",
    "        prev_cads = [next(i.iter('cad_number')).text for i in prevs] if prevs else []\n",
    "#         print(prev_cads)\n",
    "        # Категория\n",
    "        try:\n",
    "            cat = next(next(root.iter('category')).iter('value')).text\n",
    "        except:\n",
    "            cat = None\n",
    "#         print(cat)\n",
    "        # Права\n",
    "        try:\n",
    "            rights = next(root.iter('right_records'))\n",
    "        except:\n",
    "            rights = None\n",
    "        regs = []\n",
    "        reg = (None, None)\n",
    "        if rights:\n",
    "            regs = [(next(i.iter('value')).text, dtparse(next(i.iter('registration_date')).text).replace(tzinfo=None)) for i in rights]\n",
    "            reg = min(regs, key = lambda x: x[1])\n",
    "#         print(reg)\n",
    "        # Аренда\n",
    "        try:\n",
    "            restricts = next(root.iter('restrict_records'))\n",
    "        except:\n",
    "            restricts = None\n",
    "        rents = []\n",
    "        rent = (None, None)\n",
    "        if restricts:\n",
    "            rents = [(next(i.iter('value')).text, dtparse(next(i.iter('registration_date')).text).replace(tzinfo=None)) for i in restricts]\n",
    "            rents = list(filter(lambda x: re.search(r'ренда', x[0]), rents))\n",
    "            if len(rents) > 0:\n",
    "                rent = min(rents, key = lambda x: x[1])\n",
    "#         print(rent)\n",
    "        # Оксы\n",
    "        try:\n",
    "            objs = next(root.iter('included_objects'))\n",
    "        except:\n",
    "            objs = None\n",
    "        oks = [next(i.iter('cad_number')).text for i in objs] if objs else []\n",
    "#         print(oks)\n",
    "        return ['reg', cad_number, reg[0], reg[1], dirname, ', '.join(prev_cads), rent[0], rent[1], cat, ', '.join(oks)]\n",
    "    # Для выписки о переходе прав\n",
    "    elif xml_type == 2:\n",
    "        # Кад номер\n",
    "        cad_number = next(next(root.iter('land_record')).iter('cad_number')).text\n",
    "#         print(cad_number)        \n",
    "        # Права\n",
    "        try:\n",
    "            rights = next(root.iter('right_records'))\n",
    "        except:\n",
    "            rights = None\n",
    "        regs = []\n",
    "        reg = ('Нет данных', 'Нет данных')\n",
    "        if rights:\n",
    "            regs = [(next(i.iter('value')).text, dtparse(next(i.iter('registration_date')).text).replace(tzinfo=None)) for i in rights]\n",
    "            reg = min(regs, key = lambda x: x[1])\n",
    "#         print(reg)        \n",
    "        \n",
    "        return ['ip', cad_number, reg[0], reg[1], dirname]\n",
    "    \n",
    "    # Для выписки без информации\n",
    "    elif xml_type == 3:\n",
    "        cad_number = re.search(r'\\d{2}:\\d{2}:\\d{7}:\\d+', next(root.iter('content_request')).text)[0]\n",
    "#         print(cad_number)\n",
    "        return ['ip', cad_number, 'Нет данных', 'Нет данных', dirname]\n",
    "#         for elem in next(root.iter('land_record')):\n",
    "#             print(elem.tag)\n",
    "#             for child in elem:\n",
    "#                 print(child.tag, end='    ')\n",
    "#             print()\n",
    "    else:\n",
    "        print(xml, 'Неизвестный тип выписки!')\n"
   ]
  },
  {
   "cell_type": "code",
   "execution_count": 3,
   "metadata": {},
   "outputs": [
    {
     "name": "stdout",
     "output_type": "stream",
     "text": [
      "Каталог: \\\\junkart\\FS\\1_ГРАД_ПРОЕКТЫ\\23_Краснодарский_край\\2_ГП\\Апшеронский_Апшеронское\\9_Двойной учет\\2_Выписки\\21.11.2023\\xml\n"
     ]
    }
   ],
   "source": [
    "result = {'reg': [], 'ip': []}\n",
    "for dirpath, dirnames, filenames in os.walk(r\"\\\\junkart\\FS\\1_ГРАД_ПРОЕКТЫ\\23_Краснодарский_край\\2_ГП\\Апшеронский_Апшеронское\\9_Двойной учет\\2_Выписки\\21.11.2023\"):\n",
    "    # перебрать каталоги\n",
    "    for dirname in dirnames:\n",
    "        if 'xml' not in dirname:\n",
    "            continue\n",
    "        print(\"Каталог:\", os.path.join(dirpath, dirname))\n",
    "    # перебрать файлы\n",
    "        for filename in os.listdir(os.path.join(dirpath, dirname)):\n",
    "#             print(\"Файл:\", os.path.join(dirpath, filename))\n",
    "            if 'xml' in filename: #and 'шестнадца' in dirname:\n",
    "                res = xml_parse(os.path.join(dirpath, dirname, filename), os.path.join(dirpath, dirname))\n",
    "                result[res[0]].append(res[1:])\n"
   ]
  },
  {
   "cell_type": "code",
   "execution_count": 5,
   "metadata": {},
   "outputs": [],
   "source": [
    "writer = pd.ExcelWriter(r'\\\\junkart\\FS\\1_ГРАД_ПРОЕКТЫ\\23_Краснодарский_край\\2_ГП\\Апшеронский_Апшеронское\\9_Двойной учет\\2_Выписки\\Апшеронское_13122023.xlsx')\n",
    "df = pd.DataFrame(result['reg'], columns=['Кадастровый номер', 'Собственность', 'Дата_собственности', 'Сельское_поселение', 'Предыдущие номера', 'Обременение', 'Дата_обременения', 'Категория земель', 'Объекты капитального строительства'])\n",
    "df.to_excel(writer, engine='openpyxl', sheet_name='Собственность', index=False)\n",
    "df = pd.DataFrame(result['ip'], columns=['Кадастровый номер', 'Собственность', 'Дата_собственности', 'Сельское_поселение'])\n",
    "df.to_excel(writer, engine='openpyxl', sheet_name='История права', index=False)\n",
    "writer.close()"
   ]
  },
  {
   "cell_type": "code",
   "execution_count": null,
   "metadata": {},
   "outputs": [],
   "source": []
  }
 ],
 "metadata": {
  "kernelspec": {
   "display_name": "Python 3",
   "language": "python",
   "name": "python3"
  },
  "language_info": {
   "codemirror_mode": {
    "name": "ipython",
    "version": 3
   },
   "file_extension": ".py",
   "mimetype": "text/x-python",
   "name": "python",
   "nbconvert_exporter": "python",
   "pygments_lexer": "ipython3",
   "version": "3.11.4"
  }
 },
 "nbformat": 4,
 "nbformat_minor": 4
}
