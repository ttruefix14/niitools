{
 "cells": [
  {
   "cell_type": "code",
   "execution_count": 1,
   "metadata": {},
   "outputs": [],
   "source": [
    "import pandas as pd\n",
    "import arcpy\n",
    "import os\n",
    "\n",
    "from datetime import datetime, timezone"
   ]
  },
  {
   "cell_type": "code",
   "execution_count": 2,
   "metadata": {},
   "outputs": [],
   "source": [
    "class Param:\n",
    "    def __init__(self, param):\n",
    "        self.valueAsText = str(param)\n",
    "        self.value = str(param)\n",
    "        \n",
    "class Params:\n",
    "    def __init__(self, params):\n",
    "        self.input_xls = params[0].valueAsText\n",
    "        \n",
    "        self.NP = params[1].valueAsText\n",
    "        self.ZU = params[2].valueAsText\n",
    "        self.FZ = params[3].valueAsText\n",
    "        self.LU = params[4].valueAsText\n",
    "        self.DU = params[5].valueAsText\n",
    "        self.du_type = params[6].valueAsText\n",
    "        \n",
    "        self.output_xls = params[7].valueAsText\n",
    "        \n",
    "        "
   ]
  },
  {
   "cell_type": "code",
   "execution_count": 3,
   "metadata": {},
   "outputs": [],
   "source": [
    "def table_to_data_frame(in_table, input_fields=None, where_clause=None):\n",
    "    \"\"\"Function will convert an arcgis table into a pandas dataframe with an object ID index, and the selected\n",
    "    input fields using an arcpy.da.SearchCursor.\"\"\"\n",
    "    OIDFieldName = arcpy.Describe(in_table).OIDFieldName\n",
    "    try:\n",
    "        shapeFieldName = arcpy.Describe(in_table).shapeFieldName\n",
    "    except:\n",
    "        shapeFieldName = None\n",
    "    if input_fields:\n",
    "        if shapeFieldName:\n",
    "            final_fields = [OIDFieldName] + ['SHAPE@'] + input_fields\n",
    "        else:\n",
    "            final_fields = [OIDFieldName] + input_fields\n",
    "    else:\n",
    "        final_fields = [field.name if field.name != shapeFieldName else 'SHAPE@' for field in arcpy.ListFields(in_table)]\n",
    "    data = [row for row in arcpy.da.SearchCursor(in_table, final_fields, where_clause=where_clause)]\n",
    "    fc_dataframe = pd.DataFrame(data, columns=final_fields)\n",
    "    fc_dataframe = fc_dataframe.set_index(OIDFieldName, drop=True)\n",
    "    return fc_dataframe"
   ]
  },
  {
   "cell_type": "code",
   "execution_count": null,
   "metadata": {},
   "outputs": [],
   "source": [
    "def count_transfers(df, df_du, right_on, du_type=True):\n",
    "    fields = ['name', 'np', 'cadnumber', 'category', 'category_plan']\n",
    "    df['cadnumber'] = df.apply(lambda row: row['cadnumber'] if row['cadnumber'] else 'Территория, собственность на которую не разграничена', axis=1, result_type='reduce')\n",
    "    df['area'] = df.apply(lambda row: row[\"SHAPE@\"].area / 10000, axis=1, result_type='reduce')\n",
    "    df['OLD_FID'] = df.index\n",
    "\n",
    "    \n",
    "    df_du['area_du'] = df_du.apply(lambda row: row[\"SHAPE@\"].area / 10000, axis=1, result_type='reduce')\n",
    "\n",
    "    df = df.merge(df_du, 'left', left_on='OLD_FID', right_on=right_on, validate=\"one_to_many\")\n",
    "    df['category'] = df.apply(lambda row: row[\"cat\"] if (row[\"cat\"] and not row[\"cat\"].startswith(\"Земли лесного\")) else lu_dict[row['CLASSID']], axis=1, result_type='reduce')\n",
    "    \n",
    "#     df['category'] = df.apply(lambda row: lu_dict[row['CLASSID']], axis=1, result_type='reduce')\n",
    "    \n",
    "   \n",
    "    df['iskl_v_np'] = False\n",
    "    if 'name' in df.columns:\n",
    "        df['iskl_v_np'] = df.apply(lambda row: True if row['SETTL_TYPE'] > 100 else False, axis=1, result_type='reduce')\n",
    "        df['SETTL_TYPE'] = df.apply(lambda row: row['SETTL_TYPE'] if row['SETTL_TYPE'] < 101 else row['SETTL_TYPE'], axis=1, result_type='reduce')\n",
    "        df['np'] = df.apply(lambda row: np_dict[row['SETTL_TYPE']] + ' ' + row['name'], axis=1, result_type='reduce')\n",
    "    else:\n",
    "        df['name'] = 'МО'\n",
    "        df['np'] = 'МО'\n",
    "\n",
    "    \n",
    "    if 'CLASSID_12' in df.columns:\n",
    "        df['category_plan'] = df.apply(lambda row: row['category'] if not row['CLASSID_12'] else lu_dict[row['CLASSID_12']], axis=1, result_type='reduce')\n",
    "        df['category_plan'] = df.apply(lambda row: lu_dict[702010500] if abs(row['area'] - row['area_du']) < 0.2 and not row['CLASSID_12'] and not row['iskl_v_np'] and row['DU_TYPE'] in ['искл_лес', 'лес'] else row['category_plan'], axis=1, result_type='reduce')\n",
    "        # костыль для не заполненных DU_TYPE\n",
    "        if params.[]\n",
    "        df['category_plan'] = df.apply(lambda row: lu_dict[702010500] if abs(row['area'] - row['area_du']) < 0.2 and not row['CLASSID_12'] and not row['iskl_v_np'] and row['cadnumber'] == 'Территория, собственность на которую не разграничена' else row['category_plan'], axis=1, result_type='reduce')\n",
    "    else:\n",
    "        df['category_plan'] = 'Земли населенных пунктов'\n",
    "        \n",
    "    df['zones']  = df.apply(lambda row: fz_dict[row['Ext_Zone_Code']], axis=1, result_type='reduce')\n",
    "\n",
    "        \n",
    "    def agg_strings(strings):\n",
    "        return ', '.join(set(strings))\n",
    "    df_agr = df.groupby(fields).agg({'zones': agg_strings, 'area': 'sum', 'area_du': 'sum'}).reset_index()\n",
    "    df_agr['area'] = df_agr['area'].round(2)\n",
    "    df_agr['area_du'] = df_agr['area_du'].round(3)\n",
    "    df_agr = df_agr.loc[df_agr['area'] > 0].reset_index()\n",
    "    df_agr['zones'] = df_agr.apply(lambda row: row['zones'].capitalize(), axis=1, result_type='reduce')\n",
    "    del df_agr['index']\n",
    "    df_agr = df_agr.rename(columns=dict(zip(df_agr.columns, ['НП для сортировки',\n",
    "                                           'Населенный пункт', \n",
    "                                           'Кадастровый номер', \n",
    "                                           'Категория земель', \n",
    "                                           'Планируемая категория земель', \n",
    "                                           'Функциональные зоны', \n",
    "                                           'Площадь перевода, га',\n",
    "                                           'Площадь пересечения с границами Апшеронского лесничества, га'])))\n",
    "    return df_agr"
   ]
  },
  {
   "cell_type": "code",
   "execution_count": 4,
   "metadata": {},
   "outputs": [],
   "source": [
    "folder = arcpy.mp.ArcGISProject(\"CURRENT\").homeFolder\n",
    "\n",
    "params = Params(list(map(Param, [\n",
    "        r\"\\\\junkart\\FS\\1_ГРАД_ПРОЕКТЫ\\23_Краснодарский_край\\2_ГП\\Апшеронский_Апшеронское\\5_Работа\\Для баланса.xlsx\",\n",
    "        'np',\n",
    "        'zu',\n",
    "        'fz',\n",
    "        'lu',\n",
    "        'du',\n",
    "        os.path.join(folder, fr'Переводы.xlsx')\n",
    "    ]))) # arcpy.GetParameterInfo())\n",
    "\n",
    "with pd.ExcelFile(params.input_xls) as xls:\n",
    "    df_np_types = pd.read_excel(xls, \"Типы НП\")\n",
    "    np_dict = {i[1][\"SETTL_TYPE\"]: i[1][\"NP_TYPE\"] for i in df_np_types.iterrows()}\n",
    "    df_lu = pd.read_excel(xls, \"Категории земель\")\n",
    "    lu_dict = {i[1][\"CLASSID\"]: i[1][\"CATEGORY\"] for i in df_lu.iterrows()}\n",
    "    df_fz = pd.read_excel(xls, \"Функциональные зоны\")\n",
    "    fz_dict = {i[1][\"Ext_Zone_Code\"]: i[1][\"Zone\"] for i in df_fz.iterrows()}\n",
    "    df_np = pd.read_excel(xls, \"Населенные пункты\")\n",
    "    \n",
    "\n",
    "db_name = \"temp_\" + datetime.now(timezone.utc).replace(microsecond=0).astimezone().isoformat().replace(\":\", \"\") + \".gdb\"\n",
    "output_db = os.path.join(folder, db_name)"
   ]
  },
  {
   "cell_type": "code",
   "execution_count": 5,
   "metadata": {},
   "outputs": [
    {
     "data": {
      "text/html": [
       "<h2>Output</h2>C:\\Users\\ya.shatalov\\Desktop\\Data\\1_Проекты\\Хадыженское\\Khadyzhenskoe\\temp_2024-01-23T103256+0300.gdb<h2>Messages</h2>Start Time: 23 января 2024 г. 10:32:58<br/>Succeeded at 23 января 2024 г. 10:32:58 (Elapsed Time: 0,15 seconds)<br/><style>.rendered_html td, .rendered_html th {text-align: left;}.rendered_html tbody {border: 1px solid black;}</style>"
      ],
      "text/plain": [
       "<Result 'C:\\\\Users\\\\ya.shatalov\\\\Desktop\\\\Data\\\\1_Проекты\\\\Хадыженское\\\\Khadyzhenskoe\\\\temp_2024-01-23T103256+0300.gdb'>"
      ]
     },
     "execution_count": 5,
     "metadata": {},
     "output_type": "execute_result"
    }
   ],
   "source": [
    "if arcpy.Exists(output_db):\n",
    "    arcpy.management.Delete(output_db)\n",
    "arcpy.management.CreateFileGDB(folder, db_name)\n",
    "    "
   ]
  },
  {
   "cell_type": "code",
   "execution_count": 6,
   "metadata": {},
   "outputs": [
    {
     "data": {
      "text/html": [
       "<h2>Output</h2>C:\\Users\\ya.shatalov\\Desktop\\Data\\1_Проекты\\Хадыженское\\Khadyzhenskoe\\temp_2024-01-23T103256+0300.gdb\\ISKL_DU<h2>Messages</h2>Start Time: 23 января 2024 г. 10:33:53<br/>Intersecting with layer C:\\Users\\ya.shatalov\\Desktop\\Data\\1_Проекты\\Хадыженское\\Khadyzhenskoe\\temp_2024-01-23T103256+0300.gdb\\ISKL...<br/>Succeeded at 23 января 2024 г. 10:33:53 (Elapsed Time: 0,75 seconds)<br/><style>.rendered_html td, .rendered_html th {text-align: left;}.rendered_html tbody {border: 1px solid black;}</style>"
      ],
      "text/plain": [
       "<Result 'C:\\\\Users\\\\ya.shatalov\\\\Desktop\\\\Data\\\\1_Проекты\\\\Хадыженское\\\\Khadyzhenskoe\\\\temp_2024-01-23T103256+0300.gdb\\\\ISKL_DU'>"
      ]
     },
     "execution_count": 6,
     "metadata": {},
     "output_type": "execute_result"
    }
   ],
   "source": [
    "###ЗА ГРАНИЦАМИ\n",
    "arcpy.env.addOutputsToMap = False\n",
    "\n",
    "# aprx = arcpy.mp.ArcGISProject(\"CURRENT\")\n",
    "# m = aprx.activeMap\n",
    "\n",
    "# Выгружаем слои в локальную базу\n",
    "arcpy.conversion.FeatureClassToFeatureClass(params.NP, output_db, \"NP_plan\", \"STATUS_ADM = 2\")\n",
    "arcpy.conversion.FeatureClassToFeatureClass(params.NP, output_db, \"NP_ex\", \"STATUS_ADM = 1\")\n",
    "arcpy.conversion.FeatureClassToFeatureClass(params.ZU, output_db, \"ZU\")\n",
    "arcpy.conversion.FeatureClassToFeatureClass(params.FZ, output_db, \"FZ\")\n",
    "arcpy.conversion.FeatureClassToFeatureClass(params.LU, output_db, \"LU_ex\", \"STATUS = 1 And (Note <> 'Двойной учет' Or Note IS NULL)\")\n",
    "arcpy.conversion.FeatureClassToFeatureClass(params.LU, output_db, \"LU_plan\", \"STATUS = 2\")\n",
    "arcpy.conversion.FeatureClassToFeatureClass(params.DU, output_db, \"DU_temp\")#, \"DU_TYPE IN ('После 2016/Нет информации', 'искл') And (Note <> 'Амнистия' Or Note IS NULL)\")\n",
    "arcpy.management.Dissolve(output_db + \"\\\\DU_temp\", output_db + '\\\\DU', ['DU_TYPE'])\n",
    "\n",
    "# Прописываем названия слоев\n",
    "NP_plan = os.path.join(output_db, \"NP_plan\")\n",
    "NP_ex = os.path.join(output_db, \"NP_ex\")\n",
    "ZU = os.path.join(output_db, \"ZU\")\n",
    "FZ = os.path.join(output_db, \"FZ\")\n",
    "LU_ex = os.path.join(output_db, \"LU_ex\")\n",
    "LU_plan = os.path.join(output_db, \"LU_plan\")\n",
    "DU = os.path.join(output_db, \"DU\")\n",
    "\n",
    "# получаем слой с включениями\n",
    "arcpy.analysis.Erase(NP_plan, NP_ex, output_db + '\\\\NP_vkl', \"\")\n",
    "arcpy.analysis.PairwiseIntersect((NP_plan, NP_ex), output_db + \"\\\\NP_plan_NP_ex\", \"all\", \"\", \"input\")\n",
    "# arcpy.management.CalculateField(output_db + \"\\\\NP_ex_NP_plan\", \"SETTL_TYPE_1\", \"!SETTL_TYPE_1! + 100\", \"PYTHON3\")\n",
    "arcpy.management.Append([output_db + \"\\\\NP_plan_NP_ex\"], output_db + '\\\\NP_vkl', \"NO_TEST\", expression=\"NAME <> NAME_1\")\n",
    "\n",
    "# получаем слой с исключениями\n",
    "arcpy.analysis.Erase(NP_ex, NP_plan, output_db + '\\\\NP_iskl', \"\")\n",
    "arcpy.analysis.PairwiseIntersect((NP_ex, NP_plan), output_db + \"\\\\NP_ex_NP_plan\", \"all\", \"\", \"input\")\n",
    "arcpy.management.CalculateField(output_db + \"\\\\NP_ex_NP_plan\", \"SETTL_TYPE\", \"!SETTL_TYPE! + 100\", \"PYTHON3\")\n",
    "arcpy.management.Append([output_db + \"\\\\NP_ex_NP_plan\"], output_db + '\\\\NP_iskl', \"NO_TEST\", expression=\"NAME <> NAME_1\")\n",
    "\n",
    "\n",
    "# Общие операции\n",
    "arcpy.analysis.PairwiseIntersect((LU_ex, ZU), output_db + \"\\\\LU_ex_ZU\")\n",
    "\n",
    "arcpy.analysis.Erase(LU_ex, ZU, output_db + '\\\\LU_ex_Erase_ZU', \"\")\n",
    "\n",
    "arcpy.management.Merge([output_db + '\\\\LU_ex_Erase_ZU', output_db + \"\\\\LU_ex_ZU\"], output_db + \"\\\\LU_all\", \"\", \"NO_SOURCE_INFO\")\n",
    "\n",
    "arcpy.analysis.PairwiseIntersect((output_db + \"\\\\LU_all\", FZ), output_db + \"\\\\LU_all_FZ\")\n",
    "\n",
    "\n",
    "arcpy.analysis.PairwiseIntersect((output_db + \"\\\\LU_all_FZ\", LU_plan), output_db + \"\\\\LU_all_FZ_LU_plan\")\n",
    "\n",
    "\n",
    "# За границами\n",
    "arcpy.analysis.Erase(output_db + \"\\\\LU_all_FZ_LU_plan\", NP_ex, output_db + '\\\\LU_Erase_NP_ex', \"\")\n",
    "arcpy.analysis.Erase(output_db + '\\\\LU_Erase_NP_ex', NP_plan, output_db + '\\\\MO', \"\")\n",
    "arcpy.analysis.PairwiseIntersect((output_db + \"\\\\MO\", DU), output_db + \"\\\\MO_DU\")\n",
    "\n",
    "# Включаемые\n",
    "arcpy.analysis.PairwiseIntersect((output_db + \"\\\\LU_all_FZ\", output_db + '\\\\NP_vkl'), output_db + \"\\\\VKL\")\n",
    "arcpy.analysis.PairwiseIntersect((output_db + \"\\\\VKL\", DU), output_db + \"\\\\VKL_DU\")\n",
    "\n",
    "# Исключаемые\n",
    "arcpy.analysis.Erase(output_db + \"\\\\LU_all_FZ\", LU_plan, output_db + '\\\\LU_all_FZ_Erase_LU_plan', \"\")\n",
    "arcpy.management.Merge([output_db + '\\\\LU_all_FZ_Erase_LU_plan', output_db + \"\\\\LU_all_FZ_LU_plan\"], output_db + \"\\\\LU_all_Merge_LU_plan\", \"\", \"NO_SOURCE_INFO\")\n",
    "\n",
    "arcpy.analysis.PairwiseIntersect((output_db + \"\\\\LU_all_Merge_LU_plan\", output_db + '\\\\NP_iskl'), output_db + \"\\\\ISKL\")\n",
    "arcpy.analysis.PairwiseIntersect((output_db + \"\\\\ISKL\", DU), output_db + \"\\\\ISKL_DU\")\n"
   ]
  },
  {
   "cell_type": "code",
   "execution_count": 106,
   "metadata": {},
   "outputs": [],
   "source": [
    "mo = table_to_data_frame(output_db + \"\\\\MO\", [\"cadnumber\", \"CLASSID\", \"cat\", \"CLASSID_12\", \"Ext_Zone_Code\"])\n",
    "mo_du = table_to_data_frame(output_db + \"\\\\MO_DU\", [\"FID_MO\", \"DU_TYPE\"])\n",
    "result_mo = count_transfers(mo, mo_du, 'FID_MO', params.du_type)"
   ]
  },
  {
   "cell_type": "code",
   "execution_count": 107,
   "metadata": {},
   "outputs": [],
   "source": [
    "vkl = table_to_data_frame(output_db + \"\\\\VKL\", [\"cadnumber\", \"CLASSID\", \"cat\", \"Ext_Zone_Code\", \"name\", \"SETTL_TYPE\"])\n",
    "vkl_du = table_to_data_frame(output_db + \"\\\\VKL_DU\", [\"FID_VKL\", \"DU_TYPE\"])\n",
    "result_vkl = count_transfers(vkl, vkl_du, 'FID_VKL', params.du_type)"
   ]
  },
  {
   "cell_type": "code",
   "execution_count": 108,
   "metadata": {},
   "outputs": [],
   "source": [
    "iskl = table_to_data_frame(output_db + \"\\\\ISKL\", [\"cadnumber\", \"CLASSID\", \"cat\", \"CLASSID_12\", \"Ext_Zone_Code\", \"name\", \"SETTL_TYPE\"])\n",
    "iskl_du = table_to_data_frame(output_db + \"\\\\ISKL_DU\", [\"FID_ISKL\", \"DU_TYPE\"])\n",
    "result_iskl = count_transfers(iskl, iskl_du, 'FID_ISKL', params.du_type)"
   ]
  },
  {
   "cell_type": "code",
   "execution_count": 109,
   "metadata": {},
   "outputs": [],
   "source": [
    "writer = pd.ExcelWriter(params.output_xls)\n",
    "result_vkl.to_excel(writer, engine='openpyxl', sheet_name='Включается', index=False)\n",
    "result_iskl.to_excel(writer, engine='openpyxl', sheet_name='Исключается', index=False)\n",
    "result_mo.to_excel(writer, engine='openpyxl', sheet_name='За границами', index=False)\n",
    "writer.close()"
   ]
  },
  {
   "cell_type": "code",
   "execution_count": null,
   "metadata": {},
   "outputs": [],
   "source": []
  }
 ],
 "metadata": {
  "kernelspec": {
   "display_name": "ArcGISPro",
   "language": "Python",
   "name": "python3"
  },
  "language_info": {
   "file_extension": ".py",
   "name": "python",
   "version": "3"
  }
 },
 "nbformat": 4,
 "nbformat_minor": 2
}
