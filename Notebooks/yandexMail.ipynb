{
 "cells": [
  {
   "cell_type": "code",
   "execution_count": 1,
   "metadata": {},
   "outputs": [],
   "source": [
    "import re\n",
    "from selenium import webdriver\n"
   ]
  },
  {
   "cell_type": "code",
   "execution_count": 2,
   "metadata": {},
   "outputs": [],
   "source": [
    "with open(r'C:\\Users\\ya.shatalov\\Desktop\\Data\\GIS\\Toolboxex\\Test\\Росреестр\\backup5.txt', 'r') as f:\n",
    "    txt = f.read()"
   ]
  },
  {
   "cell_type": "code",
   "execution_count": 3,
   "metadata": {},
   "outputs": [],
   "source": [
    "kpts = re.findall(r'https.+==', txt)"
   ]
  },
  {
   "cell_type": "code",
   "execution_count": 4,
   "metadata": {},
   "outputs": [],
   "source": [
    "\n",
    "download_dir = r\"C:\\Users\\ya.shatalov\\Desktop\\Data\\GIS\\Toolboxex\\Test\\Росреестр\\zip\"\n",
    "chrome_options = webdriver.ChromeOptions()\n",
    "preferences = {\"download.default_directory\": download_dir ,\n",
    "               \"directory_upgrade\": True,\n",
    "               \"safebrowsing.enabled\": True }\n",
    "chrome_options.add_experimental_option(\"prefs\", preferences)\n",
    "driver = webdriver.Chrome(options=chrome_options)\n",
    "\n"
   ]
  },
  {
   "cell_type": "code",
   "execution_count": 5,
   "metadata": {},
   "outputs": [],
   "source": [
    "for i, url in enumerate(kpts):\n",
    "    driver.get(url)"
   ]
  },
  {
   "cell_type": "code",
   "execution_count": null,
   "metadata": {},
   "outputs": [],
   "source": []
  }
 ],
 "metadata": {
  "kernelspec": {
   "display_name": "Python 3",
   "language": "python",
   "name": "python3"
  },
  "language_info": {
   "codemirror_mode": {
    "name": "ipython",
    "version": 3
   },
   "file_extension": ".py",
   "mimetype": "text/x-python",
   "name": "python",
   "nbconvert_exporter": "python",
   "pygments_lexer": "ipython3",
   "version": "3.11.4"
  }
 },
 "nbformat": 4,
 "nbformat_minor": 2
}
