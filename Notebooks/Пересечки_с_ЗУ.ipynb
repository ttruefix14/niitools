{
 "cells": [
  {
   "cell_type": "code",
   "execution_count": 1,
   "metadata": {},
   "outputs": [],
   "source": [
    "import pandas as pd\n",
    "import arcpy\n",
    "\n",
    "class Param:\n",
    "    def __init__(self, param):\n",
    "        self.value = param\n",
    "        self.valueAsText = str(param)\n",
    "        \n",
    "class Params:\n",
    "    def __init__(self, params):\n",
    "        self.layer_1 = params[0]\n",
    "        self.field_1 = params[1]\n",
    "        self.layer_2 = params[2]\n",
    "        self.field_2 = params[3] if params[3] != params[1] else params[3] + '_1'\n",
    "        self.min_intersection = params[4]\n",
    "        self.exceptions = set(params[5]) if params[5] else None\n",
    "        self.output_xls = params[6]\n",
    "        self.output_fc = params[7]\n",
    "\n",
    "def table_to_data_frame(in_table, input_fields=None, where_clause=None):\n",
    "    \"\"\"Function will convert an arcgis table into a pandas dataframe with an object ID index, and the selected\n",
    "    input fields using an arcpy.da.SearchCursor.\"\"\"\n",
    "    describe = arcpy.Describe(in_table)\n",
    "    OIDFieldName = describe.OIDFieldName\n",
    "    shapeFieldName = describe.shapeFieldName if hasattr(describe, 'shapeFieldName') else None\n",
    "    if input_fields:\n",
    "        final_fields = [OIDFieldName] + input_fields\n",
    "        if shapeFieldName:\n",
    "            final_fields += ['SHAPE@']\n",
    "    else:\n",
    "        final_fields = ['SHAPE@' if field.name == shapeFieldName else field.name for field in arcpy.ListFields(in_table)]\n",
    "    data = [row for row in arcpy.da.SearchCursor(in_table, final_fields, where_clause=where_clause)]\n",
    "    fc_dataframe = pd.DataFrame(data, columns=final_fields)\n",
    "    fc_dataframe = fc_dataframe.set_index(OIDFieldName, drop=True)\n",
    "    return fc_dataframe\n",
    "\n",
    "\n",
    "\n"
   ]
  },
  {
   "cell_type": "code",
   "execution_count": 2,
   "metadata": {},
   "outputs": [],
   "source": [
    "params = Params(\n",
    "        ['Функциональные зоны',\n",
    "        'Ext_Zone_Code',\n",
    "        'Земельные участки',\n",
    "        'CadNumber',\n",
    "        1,\n",
    "        ['Л', 'В', 'СУ'],\n",
    "        r'C:\\Users\\ya.shatalov\\Desktop\\Аркгис\\Нежново\\Nezhnovo_new\\Пересечки_с_ЗУ.xlsx',\n",
    "        r'C:\\Users\\ya.shatalov\\Desktop\\Аркгис\\Нежново\\Nezhnovo_new\\Nezhnovo_new.gdb\\intersection']\n",
    "    )"
   ]
  },
  {
   "cell_type": "code",
   "execution_count": 5,
   "metadata": {},
   "outputs": [
    {
     "data": {
      "text/html": [
       "<h2>Output</h2>C:\\Users\\ya.shatalov\\Desktop\\Аркгис\\Нежново\\Nezhnovo_new\\Nezhnovo_new.gdb\\intersection<h2>Messages</h2>Start Time: 18 сентября 2023 г. 10:18:06<br/>Intersecting with layer Земельные участки...<br/>Succeeded at 18 сентября 2023 г. 10:18:11 (Elapsed Time: 5,21 seconds)<br/><style>.rendered_html td, .rendered_html th {text-align: left;}.rendered_html tbody {border: 1px solid black;}</style>"
      ],
      "text/plain": [
       "<Result 'C:\\\\Users\\\\ya.shatalov\\\\Desktop\\\\Аркгис\\\\Нежново\\\\Nezhnovo_new\\\\Nezhnovo_new.gdb\\\\intersection'>"
      ]
     },
     "execution_count": 5,
     "metadata": {},
     "output_type": "execute_result"
    }
   ],
   "source": [
    "arcpy.analysis.PairwiseIntersect((params.layer_1, params.layer_2), params.output_fc, \"all\", \"\", \"input\")"
   ]
  },
  {
   "cell_type": "code",
   "execution_count": 83,
   "metadata": {},
   "outputs": [],
   "source": [
    "df = table_to_data_frame(params.output_fc)\n",
    "df['AREA'] = df.apply(lambda row: row['SHAPE@'].area, axis=1, result_type='reduce')\n",
    "\n",
    "layer_2 = table_to_data_frame(params.layer_2)\n",
    "layer_2['AREA'] = layer_2.apply(lambda row: row['SHAPE@'].area if row['SHAPE@'] else 0, axis=1, result_type='reduce')\n"
   ]
  },
  {
   "cell_type": "code",
   "execution_count": 84,
   "metadata": {},
   "outputs": [],
   "source": [
    "df = df[[params.field_2, params.field_1, 'AREA', 'SHAPE@']]\n",
    "df = df.groupby([params.field_2, params.field_1]).agg({'AREA': 'sum'}).reset_index()\n",
    "layer_2 = layer_2.groupby(params.field_2).agg({'AREA': 'sum'}).reset_index()\n",
    "layer_2 = layer_2.rename(columns={'AREA': 'AREA_old'})\n",
    "df = df.merge(layer_2, 'left', params.field_2)\n",
    "df = df.loc[df['AREA'] > params.min_intersection]\n",
    "df['part'] = df['AREA'] / df['AREA_old'] * 100"
   ]
  },
  {
   "cell_type": "code",
   "execution_count": 85,
   "metadata": {},
   "outputs": [],
   "source": [
    "result = {}\n",
    "for n, row in df.iterrows():\n",
    "    result[row[params.field_2]] = result.setdefault(row[params.field_2], dict())\n",
    "    result[row[params.field_2]][row[params.field_1]] = round(row['AREA'], 2)\n"
   ]
  },
  {
   "cell_type": "code",
   "execution_count": 86,
   "metadata": {},
   "outputs": [],
   "source": [
    "df['objects'] = df.apply(lambda row: result[row[params.field_2]], axis=1, result_type='reduce')"
   ]
  },
  {
   "cell_type": "code",
   "execution_count": 87,
   "metadata": {},
   "outputs": [],
   "source": [
    "df = df.sort_values(by='part', ascending=False)\n",
    "df = df.drop_duplicates(subset=params.field_2, keep=\"first\")\n",
    "\n",
    "df = df.round(2)\n",
    "\n",
    "df['delete'] = df.apply(lambda row: 1 if (len(row['objects']) == 1 or set(row['objects'].keys()) - params.exceptions == set()) else 0, axis=1, result_type='reduce')\n",
    "df = df.loc[df['delete'] == 0]"
   ]
  },
  {
   "cell_type": "code",
   "execution_count": 110,
   "metadata": {},
   "outputs": [],
   "source": [
    "writer = pd.ExcelWriter(params.output_xls)\n",
    "df = df.rename(\n",
    "    columns={\n",
    "        params.field_1: f'Преобладающий элемент {params.field_1}', \n",
    "        'AREA': 'Площадь пересечения', \n",
    "        'AREA_old': 'Исходная площадь', \n",
    "        'part': 'Доля площади преобладающего элемента', \n",
    "        'objects': 'Площади всех элементов'\n",
    "    }\n",
    "              )\n",
    "df.to_excel(writer, sheet_name = 'ТЗ_зу', index = False)\n",
    "writer.close()"
   ]
  },
  {
   "cell_type": "code",
   "execution_count": 125,
   "metadata": {},
   "outputs": [],
   "source": [
    "desc = arcpy.Describe(r'C:\\Users\\ya.shatalov\\Desktop\\Аркгис\\Нежново\\Nezhnovo_new\\shp')"
   ]
  },
  {
   "cell_type": "code",
   "execution_count": 126,
   "metadata": {},
   "outputs": [
    {
     "data": {
      "text/plain": [
       "'Folder'"
      ]
     },
     "execution_count": 126,
     "metadata": {},
     "output_type": "execute_result"
    }
   ],
   "source": [
    "desc.dataType"
   ]
  },
  {
   "cell_type": "code",
   "execution_count": 130,
   "metadata": {},
   "outputs": [
    {
     "data": {
      "text/plain": [
       "('C:\\\\Users\\\\ya.shatalov\\\\Desktop\\\\Аркгис\\\\Нежново\\\\Nezhnovo_new', 'shp')"
      ]
     },
     "execution_count": 130,
     "metadata": {},
     "output_type": "execute_result"
    }
   ],
   "source": [
    "os.path.split(r'C:\\Users\\ya.shatalov\\Desktop\\Аркгис\\Нежново\\Nezhnovo_new\\shp')"
   ]
  },
  {
   "cell_type": "code",
   "execution_count": 129,
   "metadata": {},
   "outputs": [],
   "source": [
    "import os"
   ]
  },
  {
   "cell_type": "code",
   "execution_count": 132,
   "metadata": {},
   "outputs": [],
   "source": [
    "fz = arcpy.Describe('Функциональные зоны')"
   ]
  },
  {
   "cell_type": "code",
   "execution_count": 135,
   "metadata": {},
   "outputs": [
    {
     "ename": "AttributeError",
     "evalue": "DescribeData: Read-only attribute path",
     "output_type": "error",
     "traceback": [
      "\u001b[0;31m---------------------------------------------------------------------------\u001b[0m\n\u001b[0;31mAttributeError\u001b[0m                            Traceback (most recent call last)",
      "In  \u001b[0;34m[135]\u001b[0m:\nLine \u001b[0;34m1\u001b[0m:     fz.path = \u001b[34m5\u001b[39;49;00m\n",
      "\u001b[0;31mAttributeError\u001b[0m: DescribeData: Read-only attribute path\n\u001b[0;31m---------------------------------------------------------------------------\u001b[0m"
     ]
    }
   ],
   "source": [
    "fz.path = 5"
   ]
  },
  {
   "cell_type": "code",
   "execution_count": null,
   "metadata": {},
   "outputs": [],
   "source": []
  }
 ],
 "metadata": {
  "kernelspec": {
   "display_name": "ArcGISPro",
   "language": "Python",
   "name": "python3"
  },
  "language_info": {
   "file_extension": ".py",
   "name": "python",
   "version": "3"
  }
 },
 "nbformat": 4,
 "nbformat_minor": 4
}
