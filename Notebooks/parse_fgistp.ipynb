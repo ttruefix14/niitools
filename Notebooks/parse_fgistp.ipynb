{
 "cells": [
  {
   "cell_type": "code",
   "execution_count": 1,
   "metadata": {},
   "outputs": [],
   "source": [
    "import re\n",
    "import pandas"
   ]
  },
  {
   "cell_type": "code",
   "execution_count": 5,
   "metadata": {},
   "outputs": [],
   "source": [
    "with open('Черниговское.txt', encoding='utf-8') as f:\n",
    "    file = f.read()"
   ]
  },
  {
   "cell_type": "code",
   "execution_count": 6,
   "metadata": {},
   "outputs": [],
   "source": [
    "lst = [i.split('{') for i in file.split('}, ')]"
   ]
  },
  {
   "cell_type": "code",
   "execution_count": 7,
   "metadata": {},
   "outputs": [
    {
     "name": "stdout",
     "output_type": "stream",
     "text": [
      "ED63C7EF-65ED-4BA8-8AA2-C3B3C8C77DA3\n",
      "58548804-AFBC-4258-ACFE-E922532AE891\n",
      "1DDE7297-D583-4914-9B78-BD89C935F5C5\n",
      "C529C852-41B9-4354-997D-AB51EF169DA7\n",
      "3EAFDA74-80B8-4471-82B5-2B36FB99902F\n",
      "9245D5AB-8BA0-40B6-A749-385AE1192C3A\n",
      "D7CFECC4-9BDD-4F94-BF38-15318B560CC3\n",
      "43FA4F99-CAAC-4E66-BCA8-BB75FA78E45F\n",
      "D9A348FD-E69C-4A76-941D-C82EE4238CB7\n",
      "B2D7A2F2-D0C0-4602-83A0-F480C63026A5\n",
      "F0A17D11-58A5-4174-B25D-226A771DA9C4\n",
      "3181F2A4-BF50-4BBB-B390-50780EEE0832\n",
      "5BD67046-39DF-4478-B710-E8AA1F22092F\n",
      "573F7DE9-2439-40D6-ADD7-E2C1B02AF87A\n",
      "9C016CFF-E430-43E7-B8F9-A1919923A3AB\n",
      "922D4B28-A1A0-4301-9CB5-07A5EFB06B5C\n",
      "5F9D9225-63D5-4D03-9C13-DA7CADE0A8B9\n",
      "6B4C45EF-7DC5-48E4-8F4D-74E1F43051E2\n",
      "F74FBC1E-208B-45F7-8429-02F0CF758BEC\n",
      "1F4DEF52-A517-455E-8F72-E06F6064249F\n",
      "3E3B1F5E-9ABF-46B0-B880-F1353293B49F\n",
      "7151EB43-55C2-4223-827D-4B7AE94D4C3C}\n"
     ]
    }
   ],
   "source": [
    "for i in lst:\n",
    "    print(i[1])"
   ]
  },
  {
   "cell_type": "code",
   "execution_count": 13,
   "metadata": {},
   "outputs": [
    {
     "ename": "ValueError",
     "evalue": "invalid literal for int() with base 10: ''",
     "output_type": "error",
     "traceback": [
      "\u001b[1;31m---------------------------------------------------------------------------\u001b[0m",
      "\u001b[1;31mValueError\u001b[0m                                Traceback (most recent call last)",
      "\u001b[1;32mc:\\Users\\ya.shatalov\\Desktop\\Аркгис\\ФГИСТП\\parse_fgistp.ipynb Ячейка 6\u001b[0m line \u001b[0;36m1\n\u001b[1;32m----> <a href='vscode-notebook-cell:/c%3A/Users/ya.shatalov/Desktop/%D0%90%D1%80%D0%BA%D0%B3%D0%B8%D1%81/%D0%A4%D0%93%D0%98%D0%A1%D0%A2%D0%9F/parse_fgistp.ipynb#W5sZmlsZQ%3D%3D?line=0'>1</a>\u001b[0m \u001b[39mint\u001b[39;49m(\u001b[39m'\u001b[39;49m\u001b[39m'\u001b[39;49m)\n",
      "\u001b[1;31mValueError\u001b[0m: invalid literal for int() with base 10: ''"
     ]
    }
   ],
   "source": [
    "int('')"
   ]
  },
  {
   "cell_type": "code",
   "execution_count": 1,
   "metadata": {},
   "outputs": [],
   "source": [
    "char = '\u0002'"
   ]
  },
  {
   "cell_type": "code",
   "execution_count": 2,
   "metadata": {},
   "outputs": [
    {
     "data": {
      "text/plain": [
       "'\\x02'"
      ]
     },
     "execution_count": 2,
     "metadata": {},
     "output_type": "execute_result"
    }
   ],
   "source": [
    "char"
   ]
  },
  {
   "cell_type": "code",
   "execution_count": 4,
   "metadata": {},
   "outputs": [
    {
     "data": {
      "text/plain": [
       "2"
      ]
     },
     "execution_count": 4,
     "metadata": {},
     "output_type": "execute_result"
    }
   ],
   "source": [
    "ord(char)"
   ]
  },
  {
   "cell_type": "code",
   "execution_count": null,
   "metadata": {},
   "outputs": [],
   "source": []
  }
 ],
 "metadata": {
  "kernelspec": {
   "display_name": "Python 3",
   "language": "python",
   "name": "python3"
  },
  "language_info": {
   "codemirror_mode": {
    "name": "ipython",
    "version": 3
   },
   "file_extension": ".py",
   "mimetype": "text/x-python",
   "name": "python",
   "nbconvert_exporter": "python",
   "pygments_lexer": "ipython3",
   "version": "3.11.4"
  },
  "orig_nbformat": 4
 },
 "nbformat": 4,
 "nbformat_minor": 2
}
