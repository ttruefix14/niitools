{
 "cells": [
  {
   "cell_type": "code",
   "execution_count": 200,
   "metadata": {},
   "outputs": [],
   "source": [
    "import xml.etree.ElementTree as et\n",
    "import xml.dom.minidom as minidom\n",
    "import re\n",
    "import regex\n",
    "from copy import deepcopy\n",
    "\n",
    "# Load the large XML file\n",
    "tree = et.parse(r\"C:\\Users\\ya.shatalov\\Desktop\\Data\\GIS\\Toolboxex\\Test\\xml\\Материалы по обоснованию в виде карт.gml\")\n",
    "root = tree.getroot()\n",
    "\n"
   ]
  },
  {
   "cell_type": "code",
   "execution_count": 165,
   "metadata": {},
   "outputs": [],
   "source": [
    "def escape_xml_illegal_chars(unicodeString, replaceWith=u''):\n",
    "\treturn re.sub(r'[\\x00-\\x08\\x0b\\x0c\\x0e-\\x1F\\uD800-\\uDFFF\\uFFFE\\uFFFF]', replaceWith, unicodeString)\n",
    "\n",
    "def bytesInXml(string):\n",
    "    return len(string.encode('utf-8')) / 1000000 < 100\n",
    "\n",
    "def rootToString(root):\n",
    "      xmlstr = et.tostring(root, encoding='UTF-8', short_empty_elements=False)\n",
    "      return escape_xml_illegal_chars(xmlstr.decode('utf-8')).encode('utf-8')\n"
   ]
  },
  {
   "cell_type": "code",
   "execution_count": 255,
   "metadata": {},
   "outputs": [],
   "source": [
    "xmltree = et.ElementTree(root)\n",
    "\n",
    "xmlstr = et.tostring(xmltree.getroot(), encoding='UTF-8', short_empty_elements=False)\n",
    "xmlstr = escape_xml_illegal_chars(xmlstr.decode('utf-8')).encode('utf-8')\n",
    "\n",
    "#xmlpretty = minidom.parseString(xmlstr).toprettyxml(indent='\\t', newl='\\n', encoding='UTF-8')\n",
    "xmlpretty = xmlstr\n",
    "with open(r\"C:\\Users\\ya.shatalov\\Desktop\\Data\\GIS\\Toolboxex\\Test\\xml\\test.xml\", 'wb') as f:\n",
    "    f.write(xmlpretty)"
   ]
  },
  {
   "cell_type": "code",
   "execution_count": 267,
   "metadata": {},
   "outputs": [],
   "source": [
    "blank = [xmlpretty.decode('utf-8')[:regex.search(r\"</.*boundedBy>\\n*\\t*\", xmlpretty.decode('utf-8')).end()], regex.search(r\"(</.*FeatureCollection>)\", xmlpretty.decode('utf-8')).groups()[0]]\n",
    "\n",
    "blank_size = len(blank[0].encode('utf-8')) + len(blank[1].encode('utf-8'))\n",
    "\n",
    "current = xmlpretty.decode('utf-8')[regex.search(r\"</.*boundedBy>\\n*\\t*\", xmlpretty.decode('utf-8')).end():regex.search(r\"(</.*FeatureCollection>)\", xmlstr.decode('utf-8')).start()].encode('utf-8')\n"
   ]
  },
  {
   "cell_type": "code",
   "execution_count": 261,
   "metadata": {},
   "outputs": [],
   "source": [
    "n = 0\n",
    "while (len(current) + blank_size) / (1024 * 1024) > 1:\n",
    "    \n",
    "    chunk = current[:(1024 * 1024)].decode('utf-8')\n",
    "    current_bord = regex.search(r\"</.*featureMember>\\n*\\t*\", chunk, flags=regex.REVERSE)\n",
    "    result = blank[0] + chunk[:current_bord.end()] + blank[1]\n",
    "    result = re.sub(r\"(\\t+)(</.*FeatureCollection>)\", r\"\\2\", result)\n",
    "    with open(fr\"C:\\Users\\ya.shatalov\\Desktop\\Data\\GIS\\Toolboxex\\Test\\xml\\test_{n}.xml\", 'wb') as f:\n",
    "        f.write(result.encode('utf-8'))\n",
    "    current = current.decode('utf-8')[current_bord.end():].encode('utf-8')\n",
    "\n",
    "    n += 1\n",
    "else:\n",
    "    chunk = current[:(1024 * 1024)].decode('utf-8')\n",
    "    current_bord = regex.search(r\"</.*featureMember>\\n*\\t*\", chunk, flags=regex.REVERSE)\n",
    "    result = blank[0] + chunk[:current_bord.end()] + blank[1]\n",
    "    with open(fr\"C:\\Users\\ya.shatalov\\Desktop\\Data\\GIS\\Toolboxex\\Test\\xml\\test_{n}.xml\", 'wb') as f:\n",
    "        f.write(result.encode('utf-8'))"
   ]
  },
  {
   "cell_type": "code",
   "execution_count": 270,
   "metadata": {},
   "outputs": [],
   "source": [
    "dirname = r\"C:\\Users\\ya.shatalov\\Desktop\\Data\\GIS\\Toolboxex\\Test\\xml\\vj\""
   ]
  },
  {
   "cell_type": "code",
   "execution_count": 274,
   "metadata": {},
   "outputs": [
    {
     "name": "stdout",
     "output_type": "stream",
     "text": [
      "Карта границ населенных пунктов (в том числе границ образуемых населенных пунктов).gfs\n",
      "Карта границ населенных пунктов (в том числе границ образуемых населенных пунктов).gml\n",
      "Карта планируемого размещения объектов_1.gfs\n",
      "Карта планируемого размещения объектов_1.gml\n",
      "Карта планируемого размещения объектов_2.gfs\n",
      "Карта планируемого размещения объектов_2.gml\n",
      "Карта планируемого размещения объектов_3.gfs\n",
      "Карта планируемого размещения объектов_3.gml\n",
      "Карта планируемого размещения объектов_4.gfs\n",
      "Карта планируемого размещения объектов_4.gml\n",
      "Карта планируемого размещения объектов_5.gfs\n",
      "Карта планируемого размещения объектов_5.gml\n",
      "Карта функциональных зон поселения или городского округа.gfs\n",
      "Карта функциональных зон поселения или городского округа.gml\n",
      "Материалы по обоснованию в виде карт_1.gml\n",
      "Материалы по обоснованию в виде карт_10.gml\n",
      "Материалы по обоснованию в виде карт_11.gml\n",
      "Материалы по обоснованию в виде карт_12.gml\n",
      "Материалы по обоснованию в виде карт_13.gml\n",
      "Материалы по обоснованию в виде карт_14.gml\n",
      "Материалы по обоснованию в виде карт_15.gml\n",
      "Материалы по обоснованию в виде карт_16.gml\n",
      "Материалы по обоснованию в виде карт_17.gml\n",
      "Материалы по обоснованию в виде карт_18.gml\n",
      "Материалы по обоснованию в виде карт_19.gml\n",
      "Материалы по обоснованию в виде карт_2.gml\n",
      "Материалы по обоснованию в виде карт_20.gml\n",
      "Материалы по обоснованию в виде карт_21.gml\n",
      "Материалы по обоснованию в виде карт_22.gml\n",
      "Материалы по обоснованию в виде карт_23.gml\n",
      "Материалы по обоснованию в виде карт_24.gml\n",
      "Материалы по обоснованию в виде карт_25.gml\n",
      "Материалы по обоснованию в виде карт_26.gml\n",
      "Материалы по обоснованию в виде карт_27.gml\n",
      "Материалы по обоснованию в виде карт_28.gml\n",
      "Материалы по обоснованию в виде карт_29.gml\n",
      "Материалы по обоснованию в виде карт_3.gml\n",
      "Материалы по обоснованию в виде карт_4.gml\n",
      "Материалы по обоснованию в виде карт_5.gml\n",
      "Материалы по обоснованию в виде карт_6.gml\n",
      "Материалы по обоснованию в виде карт_7.gml\n",
      "Материалы по обоснованию в виде карт_8.gml\n",
      "Материалы по обоснованию в виде карт_9.gml\n"
     ]
    }
   ],
   "source": [
    "for file in os.listdir(dirname):\n",
    "    print(file)"
   ]
  },
  {
   "cell_type": "code",
   "execution_count": 273,
   "metadata": {},
   "outputs": [],
   "source": [
    "import os"
   ]
  },
  {
   "cell_type": "code",
   "execution_count": 285,
   "metadata": {},
   "outputs": [],
   "source": [
    "current_bord = regex.search(r\"</.*featureMember>\\n*\\t*\", chunk, flags=regex.REVERSE)"
   ]
  },
  {
   "cell_type": "code",
   "execution_count": 286,
   "metadata": {},
   "outputs": [
    {
     "data": {
      "text/plain": [
       "<regex.Match object; span=(22, 43), match='</ns0:featureMember>\\n'>"
      ]
     },
     "execution_count": 286,
     "metadata": {},
     "output_type": "execute_result"
    }
   ],
   "source": [
    "current_bord"
   ]
  },
  {
   "cell_type": "code",
   "execution_count": 284,
   "metadata": {},
   "outputs": [],
   "source": [
    "chunk = \"</ns0:featureMember>\\n\\t</ns0:featureMember>\\n\""
   ]
  },
  {
   "cell_type": "code",
   "execution_count": null,
   "metadata": {},
   "outputs": [],
   "source": []
  }
 ],
 "metadata": {
  "kernelspec": {
   "display_name": "Python 3",
   "language": "python",
   "name": "python3"
  },
  "language_info": {
   "codemirror_mode": {
    "name": "ipython",
    "version": 3
   },
   "file_extension": ".py",
   "mimetype": "text/x-python",
   "name": "python",
   "nbconvert_exporter": "python",
   "pygments_lexer": "ipython3",
   "version": "3.11.4"
  }
 },
 "nbformat": 4,
 "nbformat_minor": 2
}
